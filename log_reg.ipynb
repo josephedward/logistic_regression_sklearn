{
 "cells": [
  {
   "cell_type": "code",
   "execution_count": 3,
   "metadata": {},
   "outputs": [],
   "source": [
    "from sklearn.datasets import load_boston\n",
    "from sklearn.preprocessing import scale \n",
    "boston = load_boston()\n",
    "X,y = scale(boston.data), boston.target"
   ]
  },
  {
   "cell_type": "code",
   "execution_count": 8,
   "metadata": {},
   "outputs": [],
   "source": [
    "from sklearn.linear_model import LogisticRegression\n",
    "from sklearn.model_selection import train_test_split \n",
    "import numpy as np"
   ]
  },
  {
   "cell_type": "code",
   "execution_count": 9,
   "metadata": {},
   "outputs": [
    {
     "output_type": "execute_result",
     "data": {
      "text/plain": "LogisticRegression(C=1.0, class_weight=None, dual=False, fit_intercept=True,\n                   intercept_scaling=1, l1_ratio=None, max_iter=100,\n                   multi_class='auto', n_jobs=None, penalty='l2',\n                   random_state=None, solver='lbfgs', tol=0.0001, verbose=0,\n                   warm_start=False)"
     },
     "metadata": {},
     "execution_count": 9
    }
   ],
   "source": [
    "binary_y = np.array(y >= 40).astype(int)\n",
    "X_train, X_test, y_train, y_test = train_test_split(X, binary_y, test_size = .33, random_state=5)\n",
    "logistic = LogisticRegression()\n",
    "logistic.fit(X_train, y_train)\n"
   ]
  },
  {
   "cell_type": "code",
   "execution_count": 10,
   "metadata": {},
   "outputs": [
    {
     "output_type": "stream",
     "name": "stdout",
     "text": "In Sample Accuracy: 0.979\nExo Sample Accuracy:  0.958\n"
    }
   ],
   "source": [
    "from sklearn.metrics import accuracy_score\n",
    "print('In Sample Accuracy: %0.3f' %\n",
    "    accuracy_score(y_train, logistic.predict(X_train)))\n",
    "print('Exo Sample Accuracy:  %0.3f' %\n",
    "    accuracy_score(y_test, logistic.predict(X_test)))"
   ]
  },
  {
   "cell_type": "code",
   "execution_count": 12,
   "metadata": {},
   "outputs": [
    {
     "output_type": "stream",
     "name": "stdout",
     "text": "CRIM :   0.086\n     ZN :   0.230\n  INDUS :   0.580\n   CHAS :  -0.029\n    NOX :  -0.304\n     RM :   1.769\n    AGE :  -0.127\n    DIS :  -0.539\n    RAD :   0.919\n    TAX :  -0.165\nPTRATIO :  -0.782\n      B :   0.077\n  LSTAT :  -1.628\n"
    }
   ],
   "source": [
    "for var, coefficient in zip(boston.feature_names, logistic.coef_[0]):\n",
    "    print(\"%7s : %7.3f\" %(var, coefficient))"
   ]
  },
  {
   "cell_type": "code",
   "execution_count": null,
   "metadata": {},
   "outputs": [],
   "source": []
  }
 ],
 "metadata": {
  "language_info": {
   "codemirror_mode": {
    "name": "ipython",
    "version": 3
   },
   "file_extension": ".py",
   "mimetype": "text/x-python",
   "name": "python",
   "nbconvert_exporter": "python",
   "pygments_lexer": "ipython3",
   "version": "3.7.4-final"
  },
  "orig_nbformat": 2,
  "kernelspec": {
   "name": "python3",
   "display_name": "Python 3"
  }
 },
 "nbformat": 4,
 "nbformat_minor": 2
}